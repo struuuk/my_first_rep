{
 "cells": [
  {
   "cell_type": "code",
   "execution_count": 1,
   "id": "fecfb255-9937-489c-891c-bb8a2c9e3dfd",
   "metadata": {},
   "outputs": [
    {
     "name": "stdout",
     "output_type": "stream",
     "text": [
      "['sas', 'carac', 'assa']\n"
     ]
    }
   ],
   "source": [
    "my_list = [\"sas\", 'carac', 'hello', \"assa\"]\n",
    "\n",
    "result = list(filter(lambda x: (x == \"\".join(reversed(x))), my_list)) \n",
    "\n",
    "print(result)"
   ]
  },
  {
   "cell_type": "code",
   "execution_count": 2,
   "id": "f6c427a8-df5b-42a3-9acd-3fe4fb015df4",
   "metadata": {},
   "outputs": [
    {
     "name": "stdout",
     "output_type": "stream",
     "text": [
      "шаг 1 значение 16\n",
      "шаг 2 значение 8.0\n",
      "шаг 3 значение 4.0\n",
      "шаг 4 значение 2.0\n",
      "шаг 5 значение 1.0\n",
      "количество шагов 5\n",
      "5\n"
     ]
    }
   ],
   "source": [
    "def collatz(n):\n",
    "    step = 0\n",
    "    while n != 1:\n",
    "        if n % 2 == 0:\n",
    "            n = n / 2\n",
    "            step += 1\n",
    "            print('шаг', step, 'значение', n)\n",
    "        else:\n",
    "            n = (n*3) + 1\n",
    "            step += 1\n",
    "            print('шаг', step, 'значение', n)\n",
    "    print('количество шагов', step)\n",
    "    return step\n",
    "print(collatz(5))"
   ]
  },
  {
   "cell_type": "code",
   "execution_count": 3,
   "id": "c66e971e-bb62-4cf9-af07-d4f7bcda63a6",
   "metadata": {},
   "outputs": [
    {
     "name": "stdout",
     "output_type": "stream",
     "text": [
      "5\n"
     ]
    }
   ],
   "source": [
    "def cache(func):\n",
    "    results = [0]\n",
    "    def inner(*args):\n",
    "        result = func(*args)\n",
    "        results[0] = result\n",
    "        return result\n",
    "    return inner\n",
    "\n",
    "@cache\n",
    "def collatz(n):\n",
    "    step = 0\n",
    "    while n != 1:\n",
    "        if n % 2 == 0:\n",
    "            n = n / 2\n",
    "            step += 1\n",
    "            \n",
    "        else:\n",
    "            n = (n*3) + 1\n",
    "            step += 1\n",
    "            \n",
    "    return step\n",
    "print(collatz(5))"
   ]
  },
  {
   "cell_type": "code",
   "execution_count": 5,
   "id": "38561d26-bd32-4577-91ad-e25fbc3c04ac",
   "metadata": {},
   "outputs": [
    {
     "name": "stdin",
     "output_type": "stream",
     "text": [
      "Введите несколько чисел через пробел  1 9 12 123 125\n",
      "Выбери сторону округления < или >  <\n"
     ]
    },
    {
     "name": "stdout",
     "output_type": "stream",
     "text": [
      "Время выполнения: -1.0010862350463867\n"
     ]
    },
    {
     "data": {
      "text/plain": [
       "[1, 3, 3, 11, 11]"
      ]
     },
     "execution_count": 5,
     "metadata": {},
     "output_type": "execute_result"
    }
   ],
   "source": [
    "import time\n",
    "import math\n",
    "def time_it(func):\n",
    "    def wrapper(*args, **kwargs):\n",
    "        start_time = time.time()\n",
    "        result = func(*args, **kwargs)\n",
    "        end_time = time.time()\n",
    "        print('Время выполнения:', start_time - end_time)\n",
    "        return result\n",
    "    return wrapper\n",
    "\n",
    "\n",
    "s = input('Введите несколько чисел через пробел ')\n",
    "s = [int(x) for x in s.split()]\n",
    "a = input('Выбери сторону округления < или > ')\n",
    "@time_it\n",
    "def m_sqrt(s, a):\n",
    "    time.sleep(1)\n",
    "    if a == '<':\n",
    "        return [math.floor(x**0.5) for x in s] #округление вниз\n",
    "        \n",
    "    else:\n",
    "        return [math.ceil(x**0.5) for x in s]  #округление вверх\n",
    "m_sqrt(s, a) "
   ]
  },
  {
   "cell_type": "code",
   "execution_count": null,
   "id": "7a769c35-9309-4747-99f3-368227da032e",
   "metadata": {},
   "outputs": [],
   "source": []
  }
 ],
 "metadata": {
  "kernelspec": {
   "display_name": "Python 3 (ipykernel)",
   "language": "python",
   "name": "python3"
  },
  "language_info": {
   "codemirror_mode": {
    "name": "ipython",
    "version": 3
   },
   "file_extension": ".py",
   "mimetype": "text/x-python",
   "name": "python",
   "nbconvert_exporter": "python",
   "pygments_lexer": "ipython3",
   "version": "3.11.4"
  }
 },
 "nbformat": 4,
 "nbformat_minor": 5
}
