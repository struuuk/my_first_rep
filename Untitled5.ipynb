{
 "cells": [
  {
   "cell_type": "code",
   "execution_count": 52,
   "id": "42abadb2-4b41-465f-abcb-b1b054a7e387",
   "metadata": {},
   "outputs": [
    {
     "name": "stdout",
     "output_type": "stream",
     "text": [
      "1\n",
      "3\n",
      "5\n",
      "7\n",
      "9\n",
      "77\n"
     ]
    }
   ],
   "source": [
    "def odd_numbers(lst):\n",
    "  if len(lst) == 0:\n",
    "    return 0\n",
    "  if lst[0] %2 != 0:\n",
    "    print(lst[0])\n",
    "  odd_numbers(lst[1:])\n",
    "if __name__ == '__main__':\n",
    "  my_list = [1,2,3,4,5,6,7,9,0,77]\n",
    "  odd_numbers(my_list)\n"
   ]
  },
  {
   "cell_type": "code",
   "execution_count": 53,
   "id": "2164ed13-08f3-4392-9ff3-42d82e9cf930",
   "metadata": {},
   "outputs": [
    {
     "name": "stdout",
     "output_type": "stream",
     "text": [
      "12\n"
     ]
    }
   ],
   "source": [
    "def count_elements(lst):\n",
    "    if len(lst) == 0:\n",
    "        return 0\n",
    "    else:\n",
    "        print(len(lst)+1)\n",
    "    count_elements(lst[:0])\n",
    "\n",
    "if __name__ == '__main__':\n",
    "  my_list = [1,2,3,4,5,6,7,9,0,77,2]\n",
    "  count_elements(my_list)"
   ]
  },
  {
   "cell_type": "code",
   "execution_count": 54,
   "id": "5fdd3678-17fa-402e-97fb-f281c8bf1a3a",
   "metadata": {},
   "outputs": [
    {
     "name": "stdout",
     "output_type": "stream",
     "text": [
      "1\n",
      "2\n",
      "9\n",
      "0\n",
      "77\n",
      "34\n",
      "22\n"
     ]
    }
   ],
   "source": [
    "def next_element(lst):\n",
    "    index = [0]\n",
    "    def get_index():\n",
    "        result = None\n",
    "        if index[0] < len(lst):\n",
    "            result = lst[index[0]]\n",
    "            index[0] += 1\n",
    "        return result\n",
    "    return get_index\n",
    "\n",
    "if __name__ == '__main__':\n",
    "    my_list = [1,2,9,0,77,34, 22]\n",
    "    next = next_element(my_list)\n",
    "    print(next())\n",
    "    print(next())\n",
    "    print(next())\n",
    "    print(next())\n",
    "    print(next())\n",
    "    print(next())\n",
    "    print(next())"
   ]
  },
  {
   "cell_type": "code",
   "execution_count": null,
   "id": "0dae636f-5580-4310-8878-9b8f2aa271a5",
   "metadata": {},
   "outputs": [],
   "source": []
  }
 ],
 "metadata": {
  "kernelspec": {
   "display_name": "Python 3 (ipykernel)",
   "language": "python",
   "name": "python3"
  },
  "language_info": {
   "codemirror_mode": {
    "name": "ipython",
    "version": 3
   },
   "file_extension": ".py",
   "mimetype": "text/x-python",
   "name": "python",
   "nbconvert_exporter": "python",
   "pygments_lexer": "ipython3",
   "version": "3.11.4"
  }
 },
 "nbformat": 4,
 "nbformat_minor": 5
}
