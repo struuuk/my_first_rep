{
 "cells": [
  {
   "cell_type": "code",
   "execution_count": null,
   "id": "8ebd9ff7-1549-433a-804e-256530019816",
   "metadata": {},
   "outputs": [],
   "source": []
  },
  {
   "cell_type": "code",
   "execution_count": 53,
   "id": "cb64830a-b66c-4a07-b406-af51f35e418d",
   "metadata": {},
   "outputs": [],
   "source": [
    "import math\n",
    "import random\n",
    "\n",
    "\n",
    "class Customer:\n",
    "    def __init__(self, name: str, address: str, bank):\n",
    "        self.name = name\n",
    "        self.address = address\n",
    "        self.bank = bank\n",
    "    \n",
    "    def open_account(self, balance: float):\n",
    "        account_number = self.bank._generate_account_number()\n",
    "        account = self.bank.create_account(account_number, self.name, \n",
    "                                           self.address, balance)\n",
    "        return account\n",
    "\n",
    "        \n",
    "class Bank:\n",
    "    def __init__(self):\n",
    "        self.accounts = {}\n",
    "         \n",
    "    def create_account(self, account_number, name, address, balance):\n",
    "        account = Account(self, account_number, name, address, balance)\n",
    "        self.accounts[account_number] = account\n",
    "        return account\n",
    "\n",
    "    def _generate_account_number(self) -> int:\n",
    "        return math.floor(random.random() * 1000000)\n",
    "    \n",
    "    def get_account(self, account_number: int):\n",
    "        if account_number in self.accounts:\n",
    "            return self.accounts[account_number] \n",
    "        else:\n",
    "            raise ValueError(\"Account not found\") \n",
    "\n",
    "        \n",
    "class Account:\n",
    "    def __init__(self, bank, account_number: int, name: str, \n",
    "                 address: str, balance: float):\n",
    "        self.name = name\n",
    "        self.address = address\n",
    "        self.bank = bank\n",
    "        self.account_number = account_number\n",
    "        self.balance = balance\n",
    "      \n",
    "    def deposit(self, amount: float):\n",
    "      self.bank.accounts[self.account_number].balance += amount\n",
    "\n",
    "    def withdraw(self, amount: float):\n",
    "       if amount <= self.bank.accounts[self.account_number].balance:\n",
    "           self.bank.accounts[self.account_number].balance -= amount\n",
    "       else:\n",
    "           raise ValueError(\"Insufficient funds\")\n",
    "  \n",
    "    def account_status(self):\n",
    "       print(f\" Name {self.name} \\n id {self.account_number} \\n balance {self.balance}\")\n",
    "\n"
   ]
  },
  {
   "cell_type": "code",
   "execution_count": 54,
   "id": "2b1664af-7e1c-4f2e-b0de-b3dc146fca97",
   "metadata": {},
   "outputs": [],
   "source": [
    "bank = Bank()\n",
    "customer1 = Customer('Struk', 'Spb', bank)\n",
    "customer2 = Customer('dad', 'msk', bank)"
   ]
  },
  {
   "cell_type": "code",
   "execution_count": 55,
   "id": "9558e8ec-68dd-4a29-9bb7-036b19075ddc",
   "metadata": {},
   "outputs": [],
   "source": [
    "st_account = customer1.open_account(balance=310.0)\n",
    "dad_account = customer2.open_account(balance=0.0)"
   ]
  },
  {
   "cell_type": "code",
   "execution_count": 56,
   "id": "0d0275fa-1a33-46d5-bfbf-7a57ea97babc",
   "metadata": {},
   "outputs": [
    {
     "name": "stdout",
     "output_type": "stream",
     "text": [
      "balance: 410.0 'Dad' 190.0\n"
     ]
    }
   ],
   "source": [
    "st_account.deposit(100.0)\n",
    "dad_account.deposit(190.0)\n",
    "print(f\"balance: {st_account.balance} 'Dad' {dad_account.balance}\")"
   ]
  },
  {
   "cell_type": "code",
   "execution_count": 57,
   "id": "8b578bd3-96ce-4215-8aca-5b08f07469c1",
   "metadata": {},
   "outputs": [
    {
     "name": "stdout",
     "output_type": "stream",
     "text": [
      " Name dad \n",
      " id 653137 \n",
      " balance 190.0\n",
      " Name Struk \n",
      " id 63535 \n",
      " balance 410.0\n"
     ]
    }
   ],
   "source": [
    "dad_account.account_status()\n",
    "st_account.account_status()"
   ]
  },
  {
   "cell_type": "code",
   "execution_count": null,
   "id": "2ac13c7a-4b66-4180-8c99-84cb2fe99a10",
   "metadata": {},
   "outputs": [],
   "source": []
  },
  {
   "cell_type": "code",
   "execution_count": null,
   "id": "63fdb009-b19f-423e-bdc0-6c471e1b04ea",
   "metadata": {},
   "outputs": [],
   "source": []
  }
 ],
 "metadata": {
  "kernelspec": {
   "display_name": "Python 3 (ipykernel)",
   "language": "python",
   "name": "python3"
  },
  "language_info": {
   "codemirror_mode": {
    "name": "ipython",
    "version": 3
   },
   "file_extension": ".py",
   "mimetype": "text/x-python",
   "name": "python",
   "nbconvert_exporter": "python",
   "pygments_lexer": "ipython3",
   "version": "3.11.4"
  }
 },
 "nbformat": 4,
 "nbformat_minor": 5
}
